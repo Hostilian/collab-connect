{
 "cells": [
  {
   "cell_type": "markdown",
   "id": "575c47cc",
   "metadata": {},
   "source": [
    "# Introduction to Colab and Python\n",
    "Welcome to this notebook! Here you'll get a quick introduction to Python and the basics of working in Colab (or Jupyter)."
   ]
  },
  {
   "cell_type": "markdown",
   "id": "bd196dc3",
   "metadata": {},
   "source": [
    "## 1. Print Hello World\n",
    "Demonstrate basic output in Python using `print('Hello World')`."
   ]
  },
  {
   "cell_type": "code",
   "execution_count": null,
   "id": "da5102b9",
   "metadata": {},
   "outputs": [],
   "source": [
    "print(\"Hello World\")"
   ]
  },
  {
   "cell_type": "markdown",
   "id": "f38e4d51",
   "metadata": {},
   "source": [
    "## 2. Define and Use Functions with Conditionals\n",
    "Create a function with conditional logic and call it from a loop, showing different outputs based on input values."
   ]
  },
  {
   "cell_type": "code",
   "execution_count": null,
   "id": "d7561e26",
   "metadata": {},
   "outputs": [],
   "source": [
    "def HelloWorldXY(x, y):\n",
    "    if x < 10:\n",
    "        print(\"Hello World, x was < 10\")\n",
    "    elif x < 20:\n",
    "        print(\"Hello World, x was >= 10 but < 20\")\n",
    "    else:\n",
    "        print(\"Hello World, x was >= 20\")\n",
    "    return x + y\n",
    "\n",
    "for i in range(8, 25, 5):  # i=8, 13, 18, 23\n",
    "    print(f\"--- Now running with i: {i}\")\n",
    "    r = HelloWorldXY(i, i)\n",
    "    print(f\"Result from HelloWorld: {r}\")"
   ]
  },
  {
   "cell_type": "code",
   "execution_count": null,
   "id": "2db27d2e",
   "metadata": {},
   "outputs": [],
   "source": [
    "print(HelloWorldXY(1,2))"
   ]
  },
  {
   "cell_type": "markdown",
   "id": "e52ce253",
   "metadata": {},
   "source": [
    "## 3. Looping Techniques in Python\n",
    "Show examples of for loops with range, looping over lists, and while loops."
   ]
  },
  {
   "cell_type": "code",
   "execution_count": null,
   "id": "820134c1",
   "metadata": {},
   "outputs": [],
   "source": [
    "print(\"Iterate over the items. `range(2)` is like a list [0,1].\")\n",
    "for i in range(2):\n",
    "    print(i)\n",
    "\n",
    "print(\"Iterate over an actual list.\")\n",
    "for i in [0,1]:\n",
    "    print(i)\n",
    "\n",
    "print(\"While works\")\n",
    "i = 0\n",
    "while i < 2:\n",
    "    print(i)\n",
    "    i += 1"
   ]
  },
  {
   "cell_type": "markdown",
   "id": "9b83c23f",
   "metadata": {},
   "source": [
    "## 4. Using Continue and Break in Loops\n",
    "Demonstrate the use of `continue` and `break` statements in Python loops."
   ]
  },
  {
   "cell_type": "code",
   "execution_count": null,
   "id": "01d45095",
   "metadata": {},
   "outputs": [],
   "source": [
    "print(\"Python supports standard key words like continue and break\")\n",
    "while True:\n",
    "    print(\"Entered while\")\n",
    "    break"
   ]
  },
  {
   "cell_type": "markdown",
   "id": "9eac3d16",
   "metadata": {},
   "source": [
    "## 5. Working with Numpy Arrays\n",
    "Import numpy, create arrays, append elements, and iterate over array elements and their indices."
   ]
  },
  {
   "cell_type": "code",
   "execution_count": null,
   "id": "6a46fee5",
   "metadata": {},
   "outputs": [],
   "source": [
    "import numpy as np  # Make numpy available using np.\n",
    "\n",
    "# Create a numpy array, and append an element\n",
    "a = np.array([\"Hello\", \"World\"])\n",
    "a = np.append(a, \"!\")\n",
    "print(\"Current array: {}\".format(a))\n",
    "print(\"Printing each element\")\n",
    "for i in a:\n",
    "    print(i)\n",
    "\n",
    "print(\"\\nPrinting each element and their index\")\n",
    "for i, e in enumerate(a):\n",
    "    print(f\"Index: {i}, was: {e}\")"
   ]
  },
  {
   "cell_type": "markdown",
   "id": "bbb3aef3",
   "metadata": {},
   "source": [
    "## 6. Basic Math Operations with Numpy\n",
    "Use numpy functions to compute max, average, and argmax on arrays."
   ]
  },
  {
   "cell_type": "code",
   "execution_count": null,
   "id": "31882b0e",
   "metadata": {},
   "outputs": [],
   "source": [
    "print(\"\\nShowing some basic math on arrays\")\n",
    "b = np.array([0,1,4,3,2])\n",
    "print(\"Max: {}\".format(np.max(b)))\n",
    "print(\"Average: {}\".format(np.average(b)))\n",
    "print(\"Max index: {}\".format(np.argmax(b)))"
   ]
  },
  {
   "cell_type": "markdown",
   "id": "5891fc1d",
   "metadata": {},
   "source": [
    "## 7. Inspecting Types and Shapes of Arrays\n",
    "Print the type and shape of numpy arrays and their elements."
   ]
  },
  {
   "cell_type": "code",
   "execution_count": null,
   "id": "8bc02d1a",
   "metadata": {},
   "outputs": [],
   "source": [
    "print(\"\\nYou can print the type of anything\")\n",
    "print(f\"Type of b: {type(b)}, type of b[0]: {type(b[0])}\")"
   ]
  },
  {
   "cell_type": "markdown",
   "id": "9c99a2f6",
   "metadata": {},
   "source": [
    "## 8. Creating Random Numpy Arrays\n",
    "Generate random arrays with numpy and display their contents and shapes."
   ]
  },
  {
   "cell_type": "code",
   "execution_count": null,
   "id": "8b2789ff",
   "metadata": {},
   "outputs": [],
   "source": [
    "c = np.random.rand(3, 3)\n",
    "print(c)\n",
    "\n",
    "print(\"\\nYou can print the dimensions of arrays\")\n",
    "print(f\"Shape of a: {a.shape}\")\n",
    "print(f\"Shape of b: {b.shape}\")\n",
    "print(f\"Shape of c: {c.shape}\")\n",
    "print(\"...Observe, Python uses both [0,1,2] and (0,1,2) to specify lists\")"
   ]
  },
  {
   "cell_type": "markdown",
   "id": "b6bca34b",
   "metadata": {},
   "source": [
    "## 9. Colab Terminal Commands\n",
    "Run shell commands in Colab using `!ls`, `!pwd`, and `!pip install numpy`. (In Jupyter, use `!` for shell commands.)"
   ]
  },
  {
   "cell_type": "code",
   "execution_count": null,
   "id": "fee43037",
   "metadata": {},
   "outputs": [],
   "source": [
    "print(\"\\nDoing $ls on filesystem\")\n",
    "!ls -l\n",
    "!pwd\n",
    "print(\"Install numpy\")  # Just for test, numpy is actually preinstalled in most environments\n",
    "!pip install numpy"
   ]
  },
  {
   "cell_type": "markdown",
   "id": "ae8a87fb",
   "metadata": {},
   "source": [
    "## 10. Exercise: Directory Navigation with Colab Terminal\n",
    "List the current directory, change to root, and list its contents using Colab terminal commands."
   ]
  },
  {
   "cell_type": "code",
   "execution_count": null,
   "id": "fedf127e",
   "metadata": {},
   "outputs": [],
   "source": [
    "!pwd\n",
    "!cd /\n",
    "!ls -l\n",
    "print(\"Hello\")"
   ]
  }
 ],
 "metadata": {
  "language_info": {
   "name": "python"
  }
 },
 "nbformat": 4,
 "nbformat_minor": 5
}
